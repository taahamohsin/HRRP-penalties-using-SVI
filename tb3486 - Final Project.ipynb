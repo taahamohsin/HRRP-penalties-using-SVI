{
 "cells": [
  {
   "cell_type": "code",
   "id": "initial_id",
   "metadata": {
    "collapsed": true,
    "ExecuteTime": {
     "end_time": "2025-08-14T03:19:34.150402Z",
     "start_time": "2025-08-14T03:19:32.838506Z"
    }
   },
   "source": [
    "from pyspark.sql import SparkSession\n",
    "from pyspark.sql.functions import col, concat_ws, lpad, when, avg, count, expr, trim, udf, round as sql_round\n",
    "from pyspark.sql.types import StringType\n",
    "\n",
    "spark = (SparkSession.builder\n",
    "         .appName(\"HRRP State-Level Penalty Analysis\")\n",
    "         .config(\"spark.driver.memory\", \"6g\")\n",
    "         .getOrCreate())\n",
    "\n",
    "# hrrp_cleaned.csv was constructed from merging the results of the MapReduce pipeline output files\n",
    "hrrp_pos = spark.read.option(\"header\", \"true\").csv(\"hrrp_cleaned.csv\")\n",
    "\n",
    "hrrp_pos = hrrp_pos.withColumn(\n",
    "    \"FIPS\",\n",
    "    concat_ws(\"\", lpad(col(\"FIPS_STATE_CD\"), 2, \"0\"), lpad(col(\"FIPS_CNTY_CD\"), 3, \"0\"))\n",
    ")\n",
    "\n",
    "svi = spark.read.option(\"header\", \"true\").csv(\"SVI_2022_US_county.csv\")\n",
    "svi = svi.drop(\"State\") if \"State\" in svi.columns else svi\n",
    "\n",
    "full = (hrrp_pos.withColumn(\"FIPS\", trim(col(\"FIPS\")))\n",
    "                 .join(svi.withColumn(\"FIPS\", trim(col(\"FIPS\"))), on=\"FIPS\", how=\"left\"))\n",
    "\n",
    "def safe_cast_numeric(colname):\n",
    "    return when(col(colname).rlike(\"^[0-9]+(\\\\.[0-9]+)?$\"), col(colname).cast(\"double\"))\n",
    "\n",
    "full = (full\n",
    "    .withColumn(\"ERR\", safe_cast_numeric(\"Excess Readmission Ratio\"))\n",
    "    .withColumn(\"Readmits\", safe_cast_numeric(\"Number of Readmissions\"))\n",
    "    .withColumn(\"RPL_THEME1\", safe_cast_numeric(\"RPL_THEME1\"))\n",
    "    .withColumn(\"RPL_THEMES\", safe_cast_numeric(\"RPL_THEMES\"))\n",
    "    .withColumn(\"Penalized\", when(col(\"ERR\") > 1.0, 1).otherwise(0))\n",
    ")\n",
    "\n",
    "fips_map = {\n",
    "    '01':'AL','02':'AK','04':'AZ','05':'AR','06':'CA','08':'CO','09':'CT','10':'DE','11':'DC','12':'FL','13':'GA','15':'HI',\n",
    "    '16':'ID','17':'IL','18':'IN','19':'IA','20':'KS','21':'KY','22':'LA','23':'ME','24':'MD','25':'MA','26':'MI','27':'MN',\n",
    "    '28':'MS','29':'MO','30':'MT','31':'NE','32':'NV','33':'NH','34':'NJ','35':'NM','36':'NY','37':'NC','38':'ND','39':'OH',\n",
    "    '40':'OK','41':'OR','42':'PA','44':'RI','45':'SC','46':'SD','47':'TN','48':'TX','49':'UT','50':'VT','51':'VA','53':'WA',\n",
    "    '54':'WV','55':'WI','56':'WY'\n",
    "}\n",
    "def fips_to_state(fips2):\n",
    "    return fips_map.get((fips2 or \"\").zfill(2), None)\n",
    "fips_udf = udf(fips_to_state, StringType())\n",
    "full = full.withColumn(\"State\", fips_udf(col(\"FIPS_STATE_CD\")))\n",
    "\n",
    "df = hrrp_pos\n",
    "\n",
    "state_summary = full.groupBy(\"State\").agg(\n",
    "    count(\"Facility ID\").alias(\"Hospitals\"),\n",
    "    expr(\"sum(Penalized)\").alias(\"Penalized_Count\"),\n",
    "    avg(\"ERR\").alias(\"Avg_ERR\"),\n",
    "    avg(\"Readmits\").alias(\"Avg_Readmissions\"),\n",
    "    avg(\"RPL_THEME1\").alias(\"Avg_RPL_THEME1\"),\n",
    "    avg(\"RPL_THEMES\").alias(\"Avg_RPL_THEMES\")\n",
    ").withColumn(\"Percent_Penalized\", (col(\"Penalized_Count\") / col(\"Hospitals\")) * 100)\n",
    "\n",
    "by_state = state_summary.select(\n",
    "    \"State\", \"Hospitals\", sql_round(col(\"Percent_Penalized\"), 2).alias(\"Percent_Penalized\")\n",
    ")\n",
    "\n",
    "top5_states = by_state.orderBy(col(\"Percent_Penalized\").desc(), col(\"Hospitals\").desc())\n",
    "top5_states.show(5, truncate=False)\n",
    "\n",
    "bottom5_states = by_state.orderBy(col(\"Percent_Penalized\").asc(), col(\"Hospitals\").desc())\n",
    "bottom5_states.show(5, truncate=False)"
   ],
   "outputs": [
    {
     "name": "stdout",
     "output_type": "stream",
     "text": [
      "+-----+---------+-----------------+\n",
      "|State|Hospitals|Percent_Penalized|\n",
      "+-----+---------+-----------------+\n",
      "|MA   |330      |49.39            |\n",
      "|NJ   |366      |48.91            |\n",
      "|FL   |1002     |46.61            |\n",
      "|DC   |36       |44.44            |\n",
      "|IL   |696      |41.67            |\n",
      "+-----+---------+-----------------+\n",
      "only showing top 5 rows\n",
      "\n",
      "+-----+---------+-----------------+\n",
      "|State|Hospitals|Percent_Penalized|\n",
      "+-----+---------+-----------------+\n",
      "|ID   |96       |7.29             |\n",
      "|SD   |108      |8.33             |\n",
      "|WY   |66       |10.61            |\n",
      "|UT   |192      |13.54            |\n",
      "|MT   |66       |15.15            |\n",
      "+-----+---------+-----------------+\n",
      "only showing top 5 rows\n",
      "\n"
     ]
    }
   ],
   "execution_count": 34
  },
  {
   "metadata": {
    "ExecuteTime": {
     "end_time": "2025-08-14T03:19:35.452275Z",
     "start_time": "2025-08-14T03:19:34.202751Z"
    }
   },
   "cell_type": "code",
   "source": [
    "from pyspark.sql.functions import corr\n",
    "\n",
    "correlation_metrics = [\n",
    "    (\"Avg_ERR\", \"Percent_Penalized\"),\n",
    "    (\"Avg_Readmissions\", \"Percent_Penalized\"),\n",
    "    (\"Avg_RPL_THEME1\", \"Percent_Penalized\"),\n",
    "    (\"Avg_RPL_THEMES\", \"Percent_Penalized\")\n",
    "]\n",
    "\n",
    "for col1, col2 in correlation_metrics:\n",
    "    value = state_summary.select(corr(col1, col2)).first()[0]\n",
    "    print(f\"Correlation between {col1} and {col2}: {value:.4f}\")"
   ],
   "id": "49124c7e878bd7ef",
   "outputs": [
    {
     "name": "stdout",
     "output_type": "stream",
     "text": [
      "Correlation between Avg_ERR and Percent_Penalized: 0.9102\n",
      "Correlation between Avg_Readmissions and Percent_Penalized: 0.6129\n",
      "Correlation between Avg_RPL_THEME1 and Percent_Penalized: 0.2742\n",
      "Correlation between Avg_RPL_THEMES and Percent_Penalized: 0.2726\n"
     ]
    }
   ],
   "execution_count": 35
  },
  {
   "metadata": {
    "ExecuteTime": {
     "end_time": "2025-08-14T03:19:36.387456Z",
     "start_time": "2025-08-14T03:19:35.526427Z"
    }
   },
   "cell_type": "code",
   "source": [
    "from pyspark.sql.functions import col, when, regexp_replace\n",
    "\n",
    "df = hrrp_pos\n",
    "\n",
    "# POS numeric columns of interest (clean only if present)\n",
    "numeric_columns = [\n",
    "    \"CRTFD_BED_CNT\", \"MDCD_NF_BED_CNT\", \"MDCR_SNF_BED_CNT\", \"MDCR_MDCD_SNF_BED_CNT\",\n",
    "    \"HOSPC_BED_CNT\", \"AIDS_BED_CNT\", \"REHAB_BED_CNT\", \"VNTLTR_BED_CNT\",\n",
    "    \"BED_CNT\", \"ICU_SRVC_CD\", \"RN_FLTM_CNT\", \"RN_PRTM_CNT\", \"LPN_CNT\", \"EMPLEE_CNT\"\n",
    "]\n",
    "\n",
    "df = df.withColumn(\n",
    "    \"ERR\", when(col(\"Excess Readmission Ratio\").rlike(\"^[0-9.]+$\"),\n",
    "                col(\"Excess Readmission Ratio\").cast(\"double\"))\n",
    ")\n",
    "\n",
    "present_numeric = [c for c in numeric_columns if c in df.columns]\n",
    "for c in present_numeric:\n",
    "    df = df.withColumn(c, regexp_replace(col(c).cast(\"string\"), \",\", \"\"))\n",
    "    df = df.withColumn(c, when(col(c).rlike(\"^[0-9]+(\\\\.[0-9]+)?$\"), col(c).cast(\"double\")))\n",
    "\n",
    "columns_to_check = [\"ERR\"] + present_numeric\n",
    "df_clean = df.select(columns_to_check).na.drop(how=\"any\")\n",
    "\n",
    "df_clean.printSchema()\n",
    "df_clean.show(5, truncate=False)\n",
    "\n",
    "print(\"Pearson correlation with Excess Readmission Ratio (ERR):\\n\")\n",
    "\n",
    "# Correlations (gracefully skip missing columns)\n",
    "for c in numeric_columns:\n",
    "    if c not in df.columns:\n",
    "        print(f\"{c}: N/A (column not present)\")\n",
    "        continue\n",
    "    filtered = df.select(\"ERR\", c).dropna(how=\"any\")\n",
    "    n = filtered.count()\n",
    "    if n > 0:\n",
    "        print(f\"{c}: {filtered.stat.corr('ERR', c):.4f} ({n} records)\")\n",
    "    else:\n",
    "        print(f\"{c}: N/A (no valid records)\")\n"
   ],
   "id": "c9019dfea171fcfa",
   "outputs": [
    {
     "name": "stdout",
     "output_type": "stream",
     "text": [
      "root\n",
      " |-- ERR: double (nullable = true)\n",
      " |-- CRTFD_BED_CNT: double (nullable = true)\n",
      " |-- BED_CNT: double (nullable = true)\n",
      " |-- ICU_SRVC_CD: double (nullable = true)\n",
      "\n",
      "+------+-------------+-------+-----------+\n",
      "|ERR   |CRTFD_BED_CNT|BED_CNT|ICU_SRVC_CD|\n",
      "+------+-------------+-------+-----------+\n",
      "|0.9483|420.0        |420.0  |1.0        |\n",
      "|0.9509|420.0        |420.0  |1.0        |\n",
      "|0.933 |420.0        |420.0  |1.0        |\n",
      "|1.0597|420.0        |420.0  |1.0        |\n",
      "|0.9654|420.0        |420.0  |1.0        |\n",
      "+------+-------------+-------+-----------+\n",
      "only showing top 5 rows\n",
      "\n",
      "Pearson correlation with Excess Readmission Ratio (ERR):\n",
      "\n",
      "CRTFD_BED_CNT: 0.0245 (11927 records)\n",
      "MDCD_NF_BED_CNT: N/A (column not present)\n",
      "MDCR_SNF_BED_CNT: N/A (column not present)\n",
      "MDCR_MDCD_SNF_BED_CNT: N/A (column not present)\n",
      "HOSPC_BED_CNT: N/A (column not present)\n",
      "AIDS_BED_CNT: N/A (column not present)\n",
      "REHAB_BED_CNT: N/A (column not present)\n",
      "VNTLTR_BED_CNT: N/A (column not present)\n",
      "BED_CNT: 0.0268 (11927 records)\n",
      "ICU_SRVC_CD: 0.0247 (11927 records)\n",
      "RN_FLTM_CNT: N/A (column not present)\n",
      "RN_PRTM_CNT: N/A (column not present)\n",
      "LPN_CNT: N/A (column not present)\n",
      "EMPLEE_CNT: N/A (column not present)\n"
     ]
    }
   ],
   "execution_count": 36
  },
  {
   "metadata": {
    "ExecuteTime": {
     "end_time": "2025-08-14T03:19:36.778879Z",
     "start_time": "2025-08-14T03:19:36.468592Z"
    }
   },
   "cell_type": "code",
   "source": [
    "summary_by_penalty = full.groupBy(\"Penalized\").agg(\n",
    "    {\"CRTFD_BED_CNT\": \"avg\", \"BED_CNT\": \"avg\", \"ICU_SRVC_CD\": \"avg\",\n",
    "     \"RPL_THEME1\": \"avg\", \"RPL_THEMES\": \"avg\",\n",
    "     \"ERR\": \"avg\", \"Readmits\": \"avg\"}\n",
    ")\n",
    "\n",
    "summary_by_penalty.show(truncate=False)\n"
   ],
   "id": "c8da7becde6ce43b",
   "outputs": [
    {
     "name": "stdout",
     "output_type": "stream",
     "text": [
      "+---------+------------------+-----------------+------------------+------------------+------------------+------------------+------------------+\n",
      "|Penalized|avg(RPL_THEMES)   |avg(Readmits)    |avg(CRTFD_BED_CNT)|avg(BED_CNT)      |avg(ERR)          |avg(RPL_THEME1)   |avg(ICU_SRVC_CD)  |\n",
      "+---------+------------------+-----------------+------------------+------------------+------------------+------------------+------------------+\n",
      "|1        |0.6132935259310807|50.62730130220027|313.56673546611626|322.2483660130719 |1.061542277261783 |0.5669715628263178|1.1881664946680426|\n",
      "|0        |0.5949172759059199|44.97463866921189|214.26362633900442|220.55781348456208|0.9448227711434658|0.5538063095994966|1.0385948330182735|\n",
      "+---------+------------------+-----------------+------------------+------------------+------------------+------------------+------------------+\n",
      "\n"
     ]
    }
   ],
   "execution_count": 37
  },
  {
   "metadata": {
    "ExecuteTime": {
     "end_time": "2025-08-14T03:19:37.186134Z",
     "start_time": "2025-08-14T03:19:36.864354Z"
    }
   },
   "cell_type": "code",
   "source": [
    "from pyspark.sql.functions import when\n",
    "\n",
    "# Sort bed count into buckets\n",
    "binned = full.withColumn(\"Bed_Size_Category\", when(col(\"BED_CNT\") < 50, \"<50\")\n",
    "                         .when(col(\"BED_CNT\") < 100, \"50–99\")\n",
    "                         .when(col(\"BED_CNT\") < 200, \"100–199\")\n",
    "                         .when(col(\"BED_CNT\") < 300, \"200–299\")\n",
    "                         .otherwise(\"300+\"))\n",
    "\n",
    "# Compute penalty rate per category\n",
    "bed_penalty_rate = binned.groupBy(\"Bed_Size_Category\").agg(\n",
    "    expr(\"count(*) as Total_Facilities\"),\n",
    "    expr(\"sum(Penalized) as Penalized_Count\"),\n",
    "    expr(\"avg(ERR) as Avg_ERR\"),\n",
    "    expr(\"avg(RPL_THEMES) as Avg_RPL_THEMES\"),\n",
    "    expr(\"avg(RPL_THEME1) as Avg_RPL_THEME1\"),\n",
    "    expr(\"avg(Penalized) * 100 as Percent_Penalized\")\n",
    ").orderBy(\"Bed_Size_Category\")\n",
    "\n",
    "bed_penalty_rate.show(truncate=False)\n"
   ],
   "id": "fb5cee587d12d708",
   "outputs": [
    {
     "name": "stdout",
     "output_type": "stream",
     "text": [
      "+-----------------+----------------+---------------+------------------+------------------+------------------+------------------+\n",
      "|Bed_Size_Category|Total_Facilities|Penalized_Count|Avg_ERR           |Avg_RPL_THEMES    |Avg_RPL_THEME1    |Percent_Penalized |\n",
      "+-----------------+----------------+---------------+------------------+------------------+------------------+------------------+\n",
      "|100–199          |4494            |1409           |1.0036746099290799|0.5590823211875814|0.5210295546558708|31.35291499777481 |\n",
      "|200–299          |2898            |1169           |1.0076711372904394|0.602484067085949 |0.5540966457023005|40.33816425120773 |\n",
      "|300+             |5598            |2422           |1.0033862692703008|0.6472979392624741|0.5872854663774427|43.26545194712397 |\n",
      "|50–99            |3030            |594            |0.9921452529452535|0.5456350597609613|0.5276274900398374|19.603960396039604|\n",
      "|<50              |2490            |220            |0.9798581081081081|0.6360489104116254|0.599886198547209 |8.835341365461847 |\n",
      "+-----------------+----------------+---------------+------------------+------------------+------------------+------------------+\n",
      "\n"
     ]
    }
   ],
   "execution_count": 38
  },
  {
   "metadata": {
    "ExecuteTime": {
     "end_time": "2025-08-14T03:19:37.618119Z",
     "start_time": "2025-08-14T03:19:37.280002Z"
    }
   },
   "cell_type": "code",
   "source": [
    "icu_summary = full.groupBy(\"ICU_SRVC_CD\").agg(\n",
    "    expr(\"count(*) as Total\"),\n",
    "    expr(\"sum(Penalized) as Penalized_Count\"),\n",
    "    expr(\"avg(ERR) as Avg_ERR\"),\n",
    "    expr(\"avg(Penalized) * 100 as Percent_Penalized\")\n",
    ").orderBy(\"ICU_SRVC_CD\")\n",
    "\n",
    "icu_summary.show()\n"
   ],
   "id": "3f50178e65010c33",
   "outputs": [
    {
     "name": "stdout",
     "output_type": "stream",
     "text": [
      "+-----------+-----+---------------+------------------+------------------+\n",
      "|ICU_SRVC_CD|Total|Penalized_Count|           Avg_ERR| Percent_Penalized|\n",
      "+-----------+-----+---------------+------------------+------------------+\n",
      "|          0| 2502|            283|0.9866413580246921|11.310951239008793|\n",
      "|          1|13860|           4818|1.0023406281764586| 34.76190476190476|\n",
      "|          2|  210|             49|1.0083185567010309|23.333333333333332|\n",
      "|          3| 1938|            664|1.0039663690476213| 34.26212590299277|\n",
      "+-----------+-----+---------------+------------------+------------------+\n",
      "\n"
     ]
    }
   ],
   "execution_count": 39
  },
  {
   "metadata": {
    "ExecuteTime": {
     "end_time": "2025-08-14T03:19:38.835592Z",
     "start_time": "2025-08-14T03:19:37.687671Z"
    }
   },
   "cell_type": "code",
   "source": [
    "from pyspark.sql.functions import corr\n",
    "\n",
    "for colname in [\"CRTFD_BED_CNT\", \"BED_CNT\", \"ICU_SRVC_CD\", \"RPL_THEME1\", \"RPL_THEMES\"]:\n",
    "    full.select(\"ERR\", colname).dropna().agg(corr(\"ERR\", colname).alias(colname)).show()\n"
   ],
   "id": "bf2ae60d0dfba8c2",
   "outputs": [
    {
     "name": "stdout",
     "output_type": "stream",
     "text": [
      "+--------------------+\n",
      "|       CRTFD_BED_CNT|\n",
      "+--------------------+\n",
      "|0.024538954260312513|\n",
      "+--------------------+\n",
      "\n",
      "+--------------------+\n",
      "|             BED_CNT|\n",
      "+--------------------+\n",
      "|0.026797337107035718|\n",
      "+--------------------+\n",
      "\n",
      "+--------------------+\n",
      "|         ICU_SRVC_CD|\n",
      "+--------------------+\n",
      "|0.024688442362392968|\n",
      "+--------------------+\n",
      "\n",
      "+-------------------+\n",
      "|         RPL_THEME1|\n",
      "+-------------------+\n",
      "|0.09769789987388694|\n",
      "+-------------------+\n",
      "\n",
      "+-------------------+\n",
      "|         RPL_THEMES|\n",
      "+-------------------+\n",
      "|0.09405626389933283|\n",
      "+-------------------+\n",
      "\n"
     ]
    }
   ],
   "execution_count": 40
  },
  {
   "metadata": {
    "ExecuteTime": {
     "end_time": "2025-08-14T03:19:39.717967Z",
     "start_time": "2025-08-14T03:19:38.910013Z"
    }
   },
   "cell_type": "code",
   "source": [
    "from pyspark.sql.functions import avg, stddev, count, col, expr, round\n",
    "\n",
    "err_stats = full.groupBy(\"Penalized\").agg(\n",
    "    count(\"*\").alias(\"n\"),\n",
    "    round(avg(\"ERR\"), 4).alias(\"avg_ERR\"),\n",
    "    round(stddev(\"ERR\"), 4).alias(\"stddev_ERR\")\n",
    ")\n",
    "\n",
    "print(\"Mean and Stddev of ERR by Penalized Group\")\n",
    "err_stats.show()\n",
    "\n",
    "full = full.withColumn(\"ICU\", col(\"ICU_SRVC_CD\").cast(\"int\"))\n",
    "\n",
    "# | ICU_SRVC_CD | Description                                       |\n",
    "# | ----------- | ------------------------------------------------  |\n",
    "# | 0           | No ICU service provided                           |\n",
    "# | 1           | General Medical/Surgical ICU                      |\n",
    "# | 2           | Cardiac ICU (CCU) only                            |\n",
    "# | 3           | Both General ICU and Cardiac ICU services offered |\n",
    "\n",
    "icu_penalty = full.groupBy(\"ICU\", \"Penalized\").count().orderBy(\"ICU\", \"Penalized\")\n",
    "\n",
    "print(\"ICU vs Penalized Counts\")\n",
    "icu_penalty.show()\n",
    "\n",
    "icu_totals = full.groupBy(\"ICU\").agg(\n",
    "    count(\"*\").alias(\"total\"),\n",
    "    expr(\"sum(Penalized)\").alias(\"penalized_count\"),\n",
    "    round(expr(\"sum(Penalized) / count(*)\"), 4).alias(\"penalty_rate\")\n",
    ")\n",
    "\n",
    "print(\"=== ICU-wise Penalty Rate ===\")\n",
    "icu_totals.show()\n",
    "\n",
    "# This suggests that the presence of ICU services - especially general medical/surgical ICUs - is strongly associated with higher penalty rates under the HRRP program."
   ],
   "id": "fabd2620943b4f00",
   "outputs": [
    {
     "name": "stdout",
     "output_type": "stream",
     "text": [
      "Mean and Stddev of ERR by Penalized Group\n",
      "+---------+-----+-------+----------+\n",
      "|Penalized|    n|avg_ERR|stddev_ERR|\n",
      "+---------+-----+-------+----------+\n",
      "|        1| 5814| 1.0615|    0.0604|\n",
      "|        0|12696| 0.9448|    0.0505|\n",
      "+---------+-----+-------+----------+\n",
      "\n",
      "ICU vs Penalized Counts\n",
      "+---+---------+-----+\n",
      "|ICU|Penalized|count|\n",
      "+---+---------+-----+\n",
      "|  0|        0| 2219|\n",
      "|  0|        1|  283|\n",
      "|  1|        0| 9042|\n",
      "|  1|        1| 4818|\n",
      "|  2|        0|  161|\n",
      "|  2|        1|   49|\n",
      "|  3|        0| 1274|\n",
      "|  3|        1|  664|\n",
      "+---+---------+-----+\n",
      "\n",
      "=== ICU-wise Penalty Rate ===\n",
      "+---+-----+---------------+------------+\n",
      "|ICU|total|penalized_count|penalty_rate|\n",
      "+---+-----+---------------+------------+\n",
      "|  1|13860|           4818|      0.3476|\n",
      "|  3| 1938|            664|      0.3426|\n",
      "|  2|  210|             49|      0.2333|\n",
      "|  0| 2502|            283|      0.1131|\n",
      "+---+-----+---------------+------------+\n",
      "\n"
     ]
    }
   ],
   "execution_count": 41
  },
  {
   "metadata": {
    "ExecuteTime": {
     "end_time": "2025-08-14T03:19:40.073664Z",
     "start_time": "2025-08-14T03:19:39.785498Z"
    }
   },
   "cell_type": "code",
   "source": [
    "from pyspark.sql.functions import count, sum, col, when\n",
    "\n",
    "# Bed size category\n",
    "full = full.withColumn(\"Bed_Size_Category\", when(col(\"CRTFD_BED_CNT\") <= 50, \"Small\")\n",
    "                                          .when((col(\"CRTFD_BED_CNT\") > 50) & (col(\"CRTFD_BED_CNT\") <= 200), \"Medium\")\n",
    "                                          .when(col(\"CRTFD_BED_CNT\") > 200, \"Large\")\n",
    "                                          .otherwise(\"Unknown\"))\n",
    "\n",
    "icu_bed_penalty = full.groupBy(\"ICU\", \"Bed_Size_Category\") \\\n",
    "    .agg(\n",
    "        count(\"*\").alias(\"total\"),\n",
    "        sum(\"Penalized\").alias(\"penalized_count\")\n",
    "    ) \\\n",
    "    .withColumn(\"penalty_rate\", (col(\"penalized_count\") / col(\"total\")).cast(\"double\")) \\\n",
    "    .orderBy(\"ICU\", \"Bed_Size_Category\")\n",
    "\n",
    "icu_bed_penalty.show(truncate=False)\n",
    "\n",
    "# Large facilities have consistently higher penalty rates, regardless of ICU level.\n",
    "# Facilities with no ICU but large bed size still have a 38.2% penalty rate — suggesting size is a strong predictor even without ICU.\n",
    "# Small hospitals, even with ICUs, tend to have lower penalty rates.\n",
    "# The ICU level alone is not a perfect predictor, but when combined with size, it becomes revealing.\n"
   ],
   "id": "726758fa5f533b1f",
   "outputs": [
    {
     "name": "stdout",
     "output_type": "stream",
     "text": [
      "+---+-----------------+-----+---------------+--------------------+\n",
      "|ICU|Bed_Size_Category|total|penalized_count|penalty_rate        |\n",
      "+---+-----------------+-----+---------------+--------------------+\n",
      "|0  |Large            |246  |94             |0.3821138211382114  |\n",
      "|0  |Medium           |624  |89             |0.14262820512820512 |\n",
      "|0  |Small            |1632 |100            |0.061274509803921566|\n",
      "|1  |Large            |6960 |2974           |0.4272988505747126  |\n",
      "|1  |Medium           |5952 |1699           |0.2854502688172043  |\n",
      "|1  |Small            |948  |145            |0.1529535864978903  |\n",
      "|2  |Large            |60   |25             |0.4166666666666667  |\n",
      "|2  |Medium           |102  |23             |0.22549019607843138 |\n",
      "|2  |Small            |48   |1              |0.020833333333333332|\n",
      "|3  |Large            |972  |395            |0.4063786008230453  |\n",
      "|3  |Medium           |840  |252            |0.3                 |\n",
      "|3  |Small            |126  |17             |0.1349206349206349  |\n",
      "+---+-----------------+-----+---------------+--------------------+\n",
      "\n"
     ]
    }
   ],
   "execution_count": 42
  },
  {
   "metadata": {
    "ExecuteTime": {
     "end_time": "2025-08-14T03:19:40.606646Z",
     "start_time": "2025-08-14T03:19:40.199263Z"
    }
   },
   "cell_type": "code",
   "source": [
    "# --- Bar chart: penalty rate by Bed Size × ICU presence (6 bars) ---\n",
    "\n",
    "from pyspark.sql.functions import col, when, count, sum as _sum, lit\n",
    "import matplotlib.pyplot as plt\n",
    "import pandas as pd\n",
    "import numpy as np\n",
    "\n",
    "# 1) Define Bed size buckets and ICU presence (ICU>0 OR ICU_SRVC_CD>=1)\n",
    "df = (\n",
    "    full\n",
    "    .withColumn(\"BEDS\", col(\"CRTFD_BED_CNT\").cast(\"double\"))\n",
    "    .withColumn(\"Bed_Size_Category\",\n",
    "        when(col(\"BEDS\") <= 50, \"Small\")\n",
    "        .when((col(\"BEDS\") > 50) & (col(\"BEDS\") <= 200), \"Medium\")\n",
    "        .when(col(\"BEDS\") > 200, \"Large\")\n",
    "        .otherwise(\"Unknown\")\n",
    "    )\n",
    "    .withColumn(\"ICU_PRESENT\",\n",
    "        when((col(\"ICU\").cast(\"double\") > 0) | (col(\"ICU_SRVC_CD\").cast(\"double\") >= 1), \"ICU\")\n",
    "        .otherwise(\"No ICU\")\n",
    "    )\n",
    ")\n",
    "\n",
    "# 2) Aggregate from raw rows (correctly weighted)\n",
    "agg = (\n",
    "    df.groupBy(\"Bed_Size_Category\", \"ICU_PRESENT\")\n",
    "      .agg(\n",
    "          count(lit(1)).alias(\"total\"),\n",
    "          _sum(col(\"Penalized\").cast(\"int\")).alias(\"penalized_count\")\n",
    "      )\n",
    "      .withColumn(\"penalty_rate\", col(\"penalized_count\")/col(\"total\"))\n",
    ")\n",
    "\n",
    "# 3) To pandas and create a single bar per (size, ICU) combo\n",
    "pdf = agg.toPandas()\n",
    "\n",
    "# Order categories\n",
    "size_order = [\"Small\", \"Medium\", \"Large\"]  # drop \"Unknown\" for a cleaner chart; add if you want\n",
    "icu_order  = [\"No ICU\", \"ICU\"]\n",
    "\n",
    "pdf = pdf[pdf[\"Bed_Size_Category\"].isin(size_order)]\n",
    "pdf[\"Bed_Size_Category\"] = pd.Categorical(pdf[\"Bed_Size_Category\"], size_order)\n",
    "pdf[\"ICU_PRESENT\"] = pd.Categorical(pdf[\"ICU_PRESENT\"], icu_order)\n",
    "pdf = pdf.sort_values([\"Bed_Size_Category\",\"ICU_PRESENT\"])\n",
    "\n",
    "# Build labels like \"Small – No ICU\", \"Small – ICU\", ...\n",
    "pdf[\"label\"] = pdf[\"Bed_Size_Category\"].astype(str) + \" – \" + pdf[\"ICU_PRESENT\"].astype(str)\n",
    "\n",
    "x = np.arange(len(pdf))\n",
    "y = (pdf[\"penalty_rate\"] * 100).to_numpy()\n",
    "n = pdf[\"total\"].to_numpy()\n",
    "\n",
    "# 4) Plot: one simple bar per combo\n",
    "plt.figure(figsize=(9, 4))\n",
    "bars = plt.bar(x, y)\n",
    "\n",
    "plt.xticks(x, pdf[\"label\"].tolist(), rotation=0)\n",
    "plt.ylabel(\"Penalty rate (%)\")\n",
    "plt.title(\"Penalty rate by Bed Size × ICU presence\")\n",
    "\n",
    "# Annotate with % and n\n",
    "for b, v, nn in zip(bars, y, n):\n",
    "    if pd.notnull(v):\n",
    "        plt.text(b.get_x() + b.get_width()/2, v + 0.6, f\"{v:.1f}%\\n(n={int(nn)})\",\n",
    "                 ha=\"center\", va=\"bottom\", fontsize=8)\n",
    "\n",
    "plt.tight_layout()\n",
    "plt.show()\n"
   ],
   "id": "9b0832f3949570f5",
   "outputs": [
    {
     "data": {
      "text/plain": [
       "<Figure size 900x400 with 1 Axes>"
      ],
      "image/png": "[encoded data removed]"
     },
     "metadata": {},
     "output_type": "display_data"
    }
   ],
   "execution_count": 43
  },
  {
   "metadata": {
    "ExecuteTime": {
     "end_time": "2025-08-14T03:19:41.028750Z",
     "start_time": "2025-08-14T03:19:40.671836Z"
    }
   },
   "cell_type": "code",
   "source": [
    "icu_state_penalty = full.groupBy(\"ICU\", \"STATE\") \\\n",
    "    .agg(\n",
    "        count(\"*\").alias(\"total\"),\n",
    "        sum(col(\"Penalized\").cast(\"int\")).alias(\"penalized_count\")\n",
    "    ) \\\n",
    "    .withColumn(\"penalty_rate\", (col(\"penalized_count\") / col(\"total\")).cast(\"double\")) \\\n",
    "    .orderBy(\"ICU\", \"STATE\")\n",
    "\n",
    "icu_state_penalty.show()"
   ],
   "id": "c74f482e1316a4d9",
   "outputs": [
    {
     "name": "stdout",
     "output_type": "stream",
     "text": [
      "+---+-----+-----+---------------+--------------------+\n",
      "|ICU|STATE|total|penalized_count|        penalty_rate|\n",
      "+---+-----+-----+---------------+--------------------+\n",
      "|  0|   AK|    6|              0|                 0.0|\n",
      "|  0|   AL|  102|             10| 0.09803921568627451|\n",
      "|  0|   AR|   42|              5| 0.11904761904761904|\n",
      "|  0|   AZ|   84|             11| 0.13095238095238096|\n",
      "|  0|   CA|  132|             19| 0.14393939393939395|\n",
      "|  0|   CO|   54|              6|  0.1111111111111111|\n",
      "|  0|   CT|   12|              0|                 0.0|\n",
      "|  0|   FL|   48|             17|  0.3541666666666667|\n",
      "|  0|   GA|   78|             11| 0.14102564102564102|\n",
      "|  0|   IA|   12|              0|                 0.0|\n",
      "|  0|   ID|   36|              1|0.027777777777777776|\n",
      "|  0|   IL|   24|              6|                0.25|\n",
      "|  0|   IN|   48|              3|              0.0625|\n",
      "|  0|   KS|   84|              6| 0.07142857142857142|\n",
      "|  0|   KY|   42|             15| 0.35714285714285715|\n",
      "|  0|   LA|  132|             12| 0.09090909090909091|\n",
      "|  0|   MA|   12|              0|                 0.0|\n",
      "|  0|   MD|   12|              2| 0.16666666666666666|\n",
      "|  0|   MI|   60|              8| 0.13333333333333333|\n",
      "|  0|   MN|   30|              3|                 0.1|\n",
      "+---+-----+-----+---------------+--------------------+\n",
      "only showing top 20 rows\n",
      "\n"
     ]
    }
   ],
   "execution_count": 44
  },
  {
   "metadata": {
    "ExecuteTime": {
     "end_time": "2025-08-14T03:19:41.933176Z",
     "start_time": "2025-08-14T03:19:41.097653Z"
    }
   },
   "cell_type": "code",
   "source": [
    "from pyspark.sql.functions import col, when, count, sum as _sum, regexp_replace\n",
    "from pyspark.ml.feature import QuantileDiscretizer\n",
    "\n",
    "cleaned = full.withColumn(\"RN_CNT_CLEAN\", regexp_replace(col(\"RN_CNT\"), \",\", \"\"))\n",
    "\n",
    "cleaned = cleaned.withColumn(\"RN_CNT_DOUBLE\", col(\"RN_CNT_CLEAN\").cast(\"double\"))\n",
    "\n",
    "rn_staffed = cleaned.filter(col(\"RN_CNT_DOUBLE\").isNotNull())\n",
    "\n",
    "discretizer = QuantileDiscretizer(\n",
    "    numBuckets=4,\n",
    "    inputCol=\"RN_CNT_DOUBLE\",\n",
    "    outputCol=\"RN_Category\",\n",
    "    handleInvalid=\"skip\"\n",
    ")\n",
    "rn_bucketed = discretizer.fit(rn_staffed).transform(rn_staffed)\n",
    "\n",
    "#Label the quartile bins\n",
    "rn_bucketed = rn_bucketed.withColumn(\n",
    "    \"RN_Category_Label\",\n",
    "    when(col(\"RN_Category\") == 0, \"Low\")\n",
    "    .when(col(\"RN_Category\") == 1, \"Medium-Low\")\n",
    "    .when(col(\"RN_Category\") == 2, \"Medium-High\")\n",
    "    .when(col(\"RN_Category\") == 3, \"High\")\n",
    ")\n",
    "\n",
    "rn_penalty = rn_bucketed.groupBy(\"RN_Category_Label\").agg(\n",
    "    count(\"*\").alias(\"total\"),\n",
    "    _sum(col(\"Penalized\").cast(\"int\")).alias(\"penalized_count\")\n",
    ").withColumn(\n",
    "    \"penalty_rate\", col(\"penalized_count\") / col(\"total\")\n",
    ").orderBy(\"RN_Category_Label\")\n",
    "\n",
    "rn_penalty.show(truncate=False)\n",
    "\n",
    "# Surprisingly, facilities with higher registered nurse staffing levels tend to have higher readmission penalty rates. This suggests that the penalty system may disproportionately impact larger or more complex hospitals, rather than reflecting poor care. These findings support the idea that HRRP penalties do not fully adjust for patient or operational complexity."
   ],
   "id": "14398d848fe7c8c4",
   "outputs": [
    {
     "name": "stdout",
     "output_type": "stream",
     "text": [
      "+-----------------+-----+---------------+-------------------+\n",
      "|RN_Category_Label|total|penalized_count|penalty_rate       |\n",
      "+-----------------+-----+---------------+-------------------+\n",
      "|High             |4644 |2004           |0.4315245478036176 |\n",
      "|Low              |4620 |737            |0.1595238095238095 |\n",
      "|Medium-High      |4632 |1771           |0.38234024179620035|\n",
      "|Medium-Low       |4614 |1302           |0.28218465539661897|\n",
      "+-----------------+-----+---------------+-------------------+\n",
      "\n"
     ]
    }
   ],
   "execution_count": 45
  },
  {
   "metadata": {
    "ExecuteTime": {
     "end_time": "2025-08-14T03:19:42.020446Z",
     "start_time": "2025-08-14T03:19:42.015369Z"
    }
   },
   "cell_type": "code",
   "source": "svi.columns",
   "id": "d69b039e8413d228",
   "outputs": [
    {
     "data": {
      "text/plain": [
       "['ST',\n",
       " 'STATE',\n",
       " 'ST_ABBR',\n",
       " 'STCNTY',\n",
       " 'COUNTY',\n",
       " 'FIPS',\n",
       " 'LOCATION',\n",
       " 'AREA_SQMI',\n",
       " 'E_TOTPOP',\n",
       " 'M_TOTPOP',\n",
       " 'E_HU',\n",
       " 'M_HU',\n",
       " 'E_HH',\n",
       " 'M_HH',\n",
       " 'E_POV150',\n",
       " 'M_POV150',\n",
       " 'E_UNEMP',\n",
       " 'M_UNEMP',\n",
       " 'E_HBURD',\n",
       " 'M_HBURD',\n",
       " 'E_NOHSDP',\n",
       " 'M_NOHSDP',\n",
       " 'E_UNINSUR',\n",
       " 'M_UNINSUR',\n",
       " 'E_AGE65',\n",
       " 'M_AGE65',\n",
       " 'E_AGE17',\n",
       " 'M_AGE17',\n",
       " 'E_DISABL',\n",
       " 'M_DISABL',\n",
       " 'E_SNGPNT',\n",
       " 'M_SNGPNT',\n",
       " 'E_LIMENG',\n",
       " 'M_LIMENG',\n",
       " 'E_MINRTY',\n",
       " 'M_MINRTY',\n",
       " 'E_MUNIT',\n",
       " 'M_MUNIT',\n",
       " 'E_MOBILE',\n",
       " 'M_MOBILE',\n",
       " 'E_CROWD',\n",
       " 'M_CROWD',\n",
       " 'E_NOVEH',\n",
       " 'M_NOVEH',\n",
       " 'E_GROUPQ',\n",
       " 'M_GROUPQ',\n",
       " 'EP_POV150',\n",
       " 'MP_POV150',\n",
       " 'EP_UNEMP',\n",
       " 'MP_UNEMP',\n",
       " 'EP_HBURD',\n",
       " 'MP_HBURD',\n",
       " 'EP_NOHSDP',\n",
       " 'MP_NOHSDP',\n",
       " 'EP_UNINSUR',\n",
       " 'MP_UNINSUR',\n",
       " 'EP_AGE65',\n",
       " 'MP_AGE65',\n",
       " 'EP_AGE17',\n",
       " 'MP_AGE17',\n",
       " 'EP_DISABL',\n",
       " 'MP_DISABL',\n",
       " 'EP_SNGPNT',\n",
       " 'MP_SNGPNT',\n",
       " 'EP_LIMENG',\n",
       " 'MP_LIMENG',\n",
       " 'EP_MINRTY',\n",
       " 'MP_MINRTY',\n",
       " 'EP_MUNIT',\n",
       " 'MP_MUNIT',\n",
       " 'EP_MOBILE',\n",
       " 'MP_MOBILE',\n",
       " 'EP_CROWD',\n",
       " 'MP_CROWD',\n",
       " 'EP_NOVEH',\n",
       " 'MP_NOVEH',\n",
       " 'EP_GROUPQ',\n",
       " 'MP_GROUPQ',\n",
       " 'EPL_POV150',\n",
       " 'EPL_UNEMP',\n",
       " 'EPL_HBURD',\n",
       " 'EPL_NOHSDP',\n",
       " 'EPL_UNINSUR',\n",
       " 'SPL_THEME1',\n",
       " 'RPL_THEME1',\n",
       " 'EPL_AGE65',\n",
       " 'EPL_AGE17',\n",
       " 'EPL_DISABL',\n",
       " 'EPL_SNGPNT',\n",
       " 'EPL_LIMENG',\n",
       " 'SPL_THEME2',\n",
       " 'RPL_THEME2',\n",
       " 'EPL_MINRTY',\n",
       " 'SPL_THEME3',\n",
       " 'RPL_THEME3',\n",
       " 'EPL_MUNIT',\n",
       " 'EPL_MOBILE',\n",
       " 'EPL_CROWD',\n",
       " 'EPL_NOVEH',\n",
       " 'EPL_GROUPQ',\n",
       " 'SPL_THEME4',\n",
       " 'RPL_THEME4',\n",
       " 'SPL_THEMES',\n",
       " 'RPL_THEMES',\n",
       " 'F_POV150',\n",
       " 'F_UNEMP',\n",
       " 'F_HBURD',\n",
       " 'F_NOHSDP',\n",
       " 'F_UNINSUR',\n",
       " 'F_THEME1',\n",
       " 'F_AGE65',\n",
       " 'F_AGE17',\n",
       " 'F_DISABL',\n",
       " 'F_SNGPNT',\n",
       " 'F_LIMENG',\n",
       " 'F_THEME2',\n",
       " 'F_MINRTY',\n",
       " 'F_THEME3',\n",
       " 'F_MUNIT',\n",
       " 'F_MOBILE',\n",
       " 'F_CROWD',\n",
       " 'F_NOVEH',\n",
       " 'F_GROUPQ',\n",
       " 'F_THEME4',\n",
       " 'F_TOTAL',\n",
       " 'E_DAYPOP',\n",
       " 'E_NOINT',\n",
       " 'M_NOINT',\n",
       " 'E_AFAM',\n",
       " 'M_AFAM',\n",
       " 'E_HISP',\n",
       " 'M_HISP',\n",
       " 'E_ASIAN',\n",
       " 'M_ASIAN',\n",
       " 'E_AIAN',\n",
       " 'M_AIAN',\n",
       " 'E_NHPI',\n",
       " 'M_NHPI',\n",
       " 'E_TWOMORE',\n",
       " 'M_TWOMORE',\n",
       " 'E_OTHERRACE',\n",
       " 'M_OTHERRACE',\n",
       " 'EP_NOINT',\n",
       " 'MP_NOINT',\n",
       " 'EP_AFAM',\n",
       " 'MP_AFAM',\n",
       " 'EP_HISP',\n",
       " 'MP_HISP',\n",
       " 'EP_ASIAN',\n",
       " 'MP_ASIAN',\n",
       " 'EP_AIAN',\n",
       " 'MP_AIAN',\n",
       " 'EP_NHPI',\n",
       " 'MP_NHPI',\n",
       " 'EP_TWOMORE',\n",
       " 'MP_TWOMORE',\n",
       " 'EP_OTHERRACE',\n",
       " 'MP_OTHERRACE']"
      ]
     },
     "execution_count": 46,
     "metadata": {},
     "output_type": "execute_result"
    }
   ],
   "execution_count": 46
  },
  {
   "metadata": {
    "ExecuteTime": {
     "end_time": "2025-08-14T03:19:44.744514Z",
     "start_time": "2025-08-14T03:19:42.087720Z"
    }
   },
   "cell_type": "code",
   "source": [
    "from pyspark.sql.functions import col, when, count, sum as spark_sum, ntile, lit\n",
    "from pyspark.sql.window import Window\n",
    "\n",
    "svi_columns = [\n",
    "    \"EP_POV150\", \"EP_UNEMP\", \"EP_NOHSDP\", \"EP_UNINSUR\",\n",
    "    \"EP_MINRTY\", \"EP_LIMENG\", \"EP_AGE65\", \"RPL_THEMES\"\n",
    "]\n",
    "\n",
    "for svi_col in svi_columns:\n",
    "    print(f\"\\n=== Penalty Rate by Quartile of {svi_col} ===\")\n",
    "\n",
    "    windowSpec = Window.orderBy(col(svi_col))\n",
    "    windowSpec = Window.orderBy(col(svi_col)).partitionBy(lit(1))\n",
    "\n",
    "    full_with_quartile = full.withColumn(\n",
    "        f\"{svi_col}_Quartile\", ntile(4).over(windowSpec)\n",
    "    )\n",
    "\n",
    "    svi_penalty = full_with_quartile.groupBy(f\"{svi_col}_Quartile\") \\\n",
    "        .agg(\n",
    "            count(\"*\").alias(\"total\"),\n",
    "            spark_sum(\"Penalized\").alias(\"penalized_count\")\n",
    "        ) \\\n",
    "        .withColumn(\"penalty_rate\", (col(\"penalized_count\") / col(\"total\")).cast(\"double\")) \\\n",
    "        .orderBy(f\"{svi_col}_Quartile\")\n",
    "\n",
    "    svi_penalty.show(truncate=False)\n",
    "\n",
    "\n",
    "# EP_UNEMP: nearly linear increase in penalty rates\n",
    "# EP_LIMENG: clear linear rise in penalty rate across quartiles\n",
    "# EP_MINRTY and EP_NOHSDP: nonlinear, potentially interacting effects"
   ],
   "id": "ccca01d2966a9180",
   "outputs": [
    {
     "name": "stdout",
     "output_type": "stream",
     "text": [
      "\n",
      "=== Penalty Rate by Quartile of EP_POV150 ===\n",
      "+------------------+-----+---------------+-------------------+\n",
      "|EP_POV150_Quartile|total|penalized_count|penalty_rate       |\n",
      "+------------------+-----+---------------+-------------------+\n",
      "|1                 |4628 |1476           |0.31892826274848746|\n",
      "|2                 |4628 |1479           |0.31957649092480556|\n",
      "|3                 |4627 |1540           |0.3328290468986384 |\n",
      "|4                 |4627 |1319           |0.28506591744110654|\n",
      "+------------------+-----+---------------+-------------------+\n",
      "\n",
      "\n",
      "=== Penalty Rate by Quartile of EP_UNEMP ===\n",
      "+-----------------+-----+---------------+-------------------+\n",
      "|EP_UNEMP_Quartile|total|penalized_count|penalty_rate       |\n",
      "+-----------------+-----+---------------+-------------------+\n",
      "|1                |4628 |1163           |0.25129645635263614|\n",
      "|2                |4628 |1504           |0.32497839239412274|\n",
      "|3                |4627 |1576           |0.3406094661767884 |\n",
      "|4                |4627 |1571           |0.3395288523881565 |\n",
      "+-----------------+-----+---------------+-------------------+\n",
      "\n",
      "\n",
      "=== Penalty Rate by Quartile of EP_NOHSDP ===\n",
      "+------------------+-----+---------------+-------------------+\n",
      "|EP_NOHSDP_Quartile|total|penalized_count|penalty_rate       |\n",
      "+------------------+-----+---------------+-------------------+\n",
      "|1                 |4628 |1581           |0.3416162489196197 |\n",
      "|2                 |4628 |1354           |0.29256698357821953|\n",
      "|3                 |4627 |1301           |0.28117570780203155|\n",
      "|4                 |4627 |1578           |0.3410417116922412 |\n",
      "+------------------+-----+---------------+-------------------+\n",
      "\n",
      "\n",
      "=== Penalty Rate by Quartile of EP_UNINSUR ===\n",
      "+-------------------+-----+---------------+-------------------+\n",
      "|EP_UNINSUR_Quartile|total|penalized_count|penalty_rate       |\n",
      "+-------------------+-----+---------------+-------------------+\n",
      "|1                  |4628 |1495           |0.32303370786516855|\n",
      "|2                  |4628 |1448           |0.31287813310285223|\n",
      "|3                  |4627 |1497           |0.32353576831640374|\n",
      "|4                  |4627 |1374           |0.29695266911605794|\n",
      "+-------------------+-----+---------------+-------------------+\n",
      "\n",
      "\n",
      "=== Penalty Rate by Quartile of EP_MINRTY ===\n",
      "+------------------+-----+---------------+-------------------+\n",
      "|EP_MINRTY_Quartile|total|penalized_count|penalty_rate       |\n",
      "+------------------+-----+---------------+-------------------+\n",
      "|1                 |4628 |1285           |0.27765773552290407|\n",
      "|2                 |4628 |1503           |0.32476231633535   |\n",
      "|3                 |4627 |1577           |0.3408255889345148 |\n",
      "|4                 |4627 |1449           |0.31316187594553707|\n",
      "+------------------+-----+---------------+-------------------+\n",
      "\n",
      "\n",
      "=== Penalty Rate by Quartile of EP_LIMENG ===\n",
      "+------------------+-----+---------------+-------------------+\n",
      "|EP_LIMENG_Quartile|total|penalized_count|penalty_rate       |\n",
      "+------------------+-----+---------------+-------------------+\n",
      "|1                 |4628 |1251           |0.27031114952463264|\n",
      "|2                 |4628 |1424           |0.3076923076923077 |\n",
      "|3                 |4627 |1547           |0.33434190620272314|\n",
      "|4                 |4627 |1592           |0.34406743030041065|\n",
      "+------------------+-----+---------------+-------------------+\n",
      "\n",
      "\n",
      "=== Penalty Rate by Quartile of EP_AGE65 ===\n",
      "+-----------------+-----+---------------+-------------------+\n",
      "|EP_AGE65_Quartile|total|penalized_count|penalty_rate       |\n",
      "+-----------------+-----+---------------+-------------------+\n",
      "|1                |4628 |1424           |0.3076923076923077 |\n",
      "|2                |4628 |1593           |0.34420916162489196|\n",
      "|3                |4627 |1502           |0.3246163821050357 |\n",
      "|4                |4627 |1295           |0.27987897125567324|\n",
      "+-----------------+-----+---------------+-------------------+\n",
      "\n",
      "\n",
      "=== Penalty Rate by Quartile of RPL_THEMES ===\n",
      "+-------------------+-----+---------------+-------------------+\n",
      "|RPL_THEMES_Quartile|total|penalized_count|penalty_rate       |\n",
      "+-------------------+-----+---------------+-------------------+\n",
      "|1                  |4628 |1364           |0.29472774416594644|\n",
      "|2                  |4628 |1419           |0.30661192739844423|\n",
      "|3                  |4627 |1566           |0.33844823859952455|\n",
      "|4                  |4627 |1465           |0.3166198400691593 |\n",
      "+-------------------+-----+---------------+-------------------+\n",
      "\n"
     ]
    }
   ],
   "execution_count": 47
  },
  {
   "metadata": {
    "ExecuteTime": {
     "end_time": "2025-08-14T03:19:46.633069Z",
     "start_time": "2025-08-14T03:19:44.817599Z"
    }
   },
   "cell_type": "code",
   "source": [
    "from pyspark.sql.functions import col\n",
    "from pyspark.ml.feature import VectorAssembler\n",
    "from pyspark.ml.stat import Correlation\n",
    "\n",
    "columns_of_interest = [\n",
    "    \"EP_UNEMP\", \"EP_NOHSDP\", \"EP_LIMENG\", \"EP_MINRTY\", \"EP_UNINSUR\",\n",
    "    \"EP_POV150\", \"EP_AGE65\", \"RN_CNT\"\n",
    "]\n",
    "\n",
    "df_corr = full.select([\"penalized\"] + columns_of_interest)\n",
    "for c in columns_of_interest:\n",
    "    df_corr = df_corr.withColumn(c, col(c).cast(\"double\"))\n",
    "\n",
    "df_clean = df_corr.dropna(subset=columns_of_interest)\n",
    "\n",
    "# Assemble vector and skip rows with invalid data\n",
    "assembler = VectorAssembler(\n",
    "    inputCols=columns_of_interest,\n",
    "    outputCol=\"features\",\n",
    "    handleInvalid=\"skip\"\n",
    ")\n",
    "vector_df = assembler.transform(df_clean).select(\"features\")\n",
    "\n",
    "corr_matrix = Correlation.corr(vector_df, \"features\", \"pearson\").head()[0].toArray()\n",
    "\n",
    "for c in columns_of_interest:\n",
    "    corr = df_clean.stat.corr(\"penalized\", c)\n",
    "    print(f\"{c}: correlation with penalized = {corr}\")\n"
   ],
   "id": "2032604ebc9c06f5",
   "outputs": [
    {
     "name": "stdout",
     "output_type": "stream",
     "text": [
      "EP_UNEMP: correlation with penalized = 0.04351658653568677\n",
      "EP_NOHSDP: correlation with penalized = -0.01697406781661238\n",
      "EP_LIMENG: correlation with penalized = 0.05524109950267792\n",
      "EP_MINRTY: correlation with penalized = 0.05485347123817996\n",
      "EP_UNINSUR: correlation with penalized = -0.040815254865480266\n",
      "EP_POV150: correlation with penalized = -0.024668438822422707\n",
      "EP_AGE65: correlation with penalized = 0.00730101096638445\n",
      "RN_CNT: correlation with penalized = 0.04299520676747402\n"
     ]
    }
   ],
   "execution_count": 48
  },
  {
   "metadata": {
    "ExecuteTime": {
     "end_time": "2025-08-14T03:19:47.152313Z",
     "start_time": "2025-08-14T03:19:46.702115Z"
    }
   },
   "cell_type": "code",
   "source": [
    "from pyspark.sql.functions import col, when, regexp_replace\n",
    "from pyspark.sql.types import DoubleType\n",
    "\n",
    "full = full.withColumn(\"label\", col(\"Penalized\").cast(\"double\"))\n",
    "\n",
    "# The ICU levels are 0-3. > 0 means \"ICU present\" here\n",
    "full = full.withColumn(\"ICU_PRESENT\", when(col(\"ICU\").cast(\"int\") > 0, 1.0).otherwise(0.0))\n",
    "\n",
    "candidates = [\n",
    "    \"RN_CNT\", \"CRTFD_BED_CNT\", \"BED_CNT\", \"ICU_PRESENT\",     # POS/facility operations\n",
    "    \"EP_UNEMP\", \"EP_NOHSDP\", \"EP_LIMENG\", \"EP_MINRTY\", \"EP_UNINSUR\", \"EP_POV150\", \"EP_AGE65\" # SVI at the county level\n",
    "]\n",
    "\n",
    "existing = set(full.columns)\n",
    "usable = []\n",
    "for c in candidates:\n",
    "    if c in existing:\n",
    "        full = full.withColumn(c, regexp_replace(col(c).cast(\"string\"), \",\", \"\"))\n",
    "        full = full.withColumn(c, col(c).cast(DoubleType()))\n",
    "        usable.append(c)\n",
    "\n",
    "print(\"Features found & cast:\", usable)"
   ],
   "id": "ac9635a8c300f792",
   "outputs": [
    {
     "name": "stdout",
     "output_type": "stream",
     "text": [
      "Features found & cast: ['RN_CNT', 'CRTFD_BED_CNT', 'BED_CNT', 'ICU_PRESENT', 'EP_UNEMP', 'EP_NOHSDP', 'EP_LIMENG', 'EP_MINRTY', 'EP_UNINSUR', 'EP_POV150', 'EP_AGE65']\n"
     ]
    }
   ],
   "execution_count": 49
  },
  {
   "metadata": {
    "ExecuteTime": {
     "end_time": "2025-08-14T03:20:08.502827Z",
     "start_time": "2025-08-14T03:19:47.310960Z"
    }
   },
   "cell_type": "code",
   "source": [
    "from pyspark.ml.feature import VectorAssembler\n",
    "from pyspark.ml.classification import LogisticRegression, RandomForestClassifier\n",
    "from pyspark.ml.evaluation import BinaryClassificationEvaluator, MulticlassClassificationEvaluator\n",
    "\n",
    "assembler = VectorAssembler(\n",
    "    inputCols=usable,\n",
    "    outputCol=\"features\",\n",
    "    handleInvalid=\"skip\"\n",
    ")\n",
    "\n",
    "dataset = assembler.transform(full).select(\"features\", \"label\")\n",
    "print(\"Dataset rows after assembly:\", dataset.count())\n",
    "\n",
    "train_df, test_df = dataset.randomSplit([0.7, 0.3], seed=42)\n",
    "print(\"Train:\", train_df.count(), \"Test:\", test_df.count())\n",
    "\n",
    "lr = LogisticRegression(featuresCol=\"features\", labelCol=\"label\", maxIter=100, regParam=0.0, elasticNetParam=0.0)\n",
    "lr_model = lr.fit(train_df)\n",
    "lr_preds = lr_model.transform(test_df)\n",
    "\n",
    "rf = RandomForestClassifier(featuresCol=\"features\", labelCol=\"label\", numTrees=200, maxDepth=8, seed=42)\n",
    "rf_model = rf.fit(train_df)\n",
    "rf_preds = rf_model.transform(test_df)\n",
    "\n",
    "bin_eval = BinaryClassificationEvaluator(labelCol=\"label\", rawPredictionCol=\"rawPrediction\", metricName=\"areaUnderROC\")\n",
    "multi_acc = MulticlassClassificationEvaluator(labelCol=\"label\", predictionCol=\"prediction\", metricName=\"accuracy\")\n",
    "multi_f1  = MulticlassClassificationEvaluator(labelCol=\"label\", predictionCol=\"prediction\", metricName=\"f1\")\n",
    "\n",
    "def show_metrics(name, preds):\n",
    "    auc = bin_eval.evaluate(preds)\n",
    "    acc = multi_acc.evaluate(preds)\n",
    "    f1  = multi_f1.evaluate(preds)\n",
    "    print(f\"\\n=== {name} ===\")\n",
    "    print(f\"AUC: {auc:.4f} | Accuracy: {acc:.4f} | F1: {f1:.4f}\")\n",
    "\n",
    "    # Confusion matrix\n",
    "    cm = (preds.groupBy(\"label\", \"prediction\").count()\n",
    "                .orderBy(\"label\", \"prediction\"))\n",
    "    cm.show(truncate=False)\n",
    "\n",
    "show_metrics(\"Logistic Regression\", lr_preds)\n",
    "show_metrics(\"Random Forest\", rf_preds)\n",
    "\n",
    "# Logistic Regression Coefficients\n",
    "for fname, coef in zip(usable, lr_model.coefficients):\n",
    "    print(f\"{fname:15s} : {coef:+.4f}\")\n",
    "print(f\"Intercept         : {lr_model.intercept:+.4f}\")\n",
    "\n",
    "rf_importances = {}\n",
    "\n",
    "for fname, imp in zip(usable, rf_model.featureImportances.toArray()):\n",
    "    rf_importances[fname] = imp\n",
    "    print(f\"{fname:15s} : {imp:.4f}\")\n"
   ],
   "id": "eccdb702ac2bde15",
   "outputs": [
    {
     "name": "stdout",
     "output_type": "stream",
     "text": [
      "Dataset rows after assembly: 18330\n",
      "Train: 12905 Test: 5425\n"
     ]
    },
    {
     "name": "stderr",
     "output_type": "stream",
     "text": [
      "                                                                                \r"
     ]
    },
    {
     "name": "stdout",
     "output_type": "stream",
     "text": [
      "25/08/13 23:19:56 WARN DAGScheduler: Broadcasting large task binary with size 1812.3 KiB\n"
     ]
    },
    {
     "name": "stderr",
     "output_type": "stream",
     "text": [
      "                                                                                \r"
     ]
    },
    {
     "name": "stdout",
     "output_type": "stream",
     "text": [
      "25/08/13 23:19:57 WARN DAGScheduler: Broadcasting large task binary with size 3.2 MiB\n"
     ]
    },
    {
     "name": "stderr",
     "output_type": "stream",
     "text": [
      "                                                                                \r"
     ]
    },
    {
     "name": "stdout",
     "output_type": "stream",
     "text": [
      "25/08/13 23:19:59 WARN DAGScheduler: Broadcasting large task binary with size 5.6 MiB\n"
     ]
    },
    {
     "name": "stderr",
     "output_type": "stream",
     "text": [
      "[Stage 696:>                                                        (0 + 1) / 1]\r"
     ]
    },
    {
     "name": "stdout",
     "output_type": "stream",
     "text": [
      "25/08/13 23:20:01 WARN DAGScheduler: Broadcasting large task binary with size 1407.1 KiB\n"
     ]
    },
    {
     "name": "stderr",
     "output_type": "stream",
     "text": [
      "                                                                                \r"
     ]
    },
    {
     "name": "stdout",
     "output_type": "stream",
     "text": [
      "\n",
      "=== Logistic Regression ===\n",
      "AUC: 0.6452 | Accuracy: 0.6747 | F1: 0.5678\n",
      "+-----+----------+-----+\n",
      "|label|prediction|count|\n",
      "+-----+----------+-----+\n",
      "|0.0  |0.0       |3584 |\n",
      "|0.0  |1.0       |81   |\n",
      "|1.0  |0.0       |1684 |\n",
      "|1.0  |1.0       |76   |\n",
      "+-----+----------+-----+\n",
      "\n",
      "25/08/13 23:20:05 WARN DAGScheduler: Broadcasting large task binary with size 3.2 MiB\n"
     ]
    },
    {
     "name": "stderr",
     "output_type": "stream",
     "text": [
      "                                                                                \r"
     ]
    },
    {
     "name": "stdout",
     "output_type": "stream",
     "text": [
      "25/08/13 23:20:05 WARN DAGScheduler: Broadcasting large task binary with size 3.2 MiB\n"
     ]
    },
    {
     "name": "stderr",
     "output_type": "stream",
     "text": [
      "                                                                                \r"
     ]
    },
    {
     "name": "stdout",
     "output_type": "stream",
     "text": [
      "25/08/13 23:20:06 WARN DAGScheduler: Broadcasting large task binary with size 3.2 MiB\n"
     ]
    },
    {
     "name": "stderr",
     "output_type": "stream",
     "text": [
      "                                                                                \r"
     ]
    },
    {
     "name": "stdout",
     "output_type": "stream",
     "text": [
      "\n",
      "=== Random Forest ===\n",
      "AUC: 0.6830 | Accuracy: 0.6806 | F1: 0.5800\n",
      "25/08/13 23:20:07 WARN DAGScheduler: Broadcasting large task binary with size 3.2 MiB\n"
     ]
    },
    {
     "name": "stderr",
     "output_type": "stream",
     "text": [
      "[Stage 737:>                                                        (0 + 1) / 1]\r"
     ]
    },
    {
     "name": "stdout",
     "output_type": "stream",
     "text": [
      "25/08/13 23:20:08 WARN DAGScheduler: Broadcasting large task binary with size 3.1 MiB\n",
      "+-----+----------+-----+\n",
      "|label|prediction|count|\n",
      "+-----+----------+-----+\n",
      "|0.0  |0.0       |3584 |\n",
      "|0.0  |1.0       |81   |\n",
      "|1.0  |0.0       |1652 |\n",
      "|1.0  |1.0       |108  |\n",
      "+-----+----------+-----+\n",
      "\n",
      "RN_CNT          : -0.0001\n",
      "CRTFD_BED_CNT   : +0.0003\n",
      "BED_CNT         : +0.0010\n",
      "ICU_PRESENT     : +1.2108\n",
      "EP_UNEMP        : +0.0589\n",
      "EP_NOHSDP       : -0.0067\n",
      "EP_LIMENG       : +0.0057\n",
      "EP_MINRTY       : +0.0037\n",
      "EP_UNINSUR      : -0.0102\n",
      "EP_POV150       : -0.0089\n",
      "EP_AGE65        : +0.0188\n",
      "Intercept         : -2.6370\n",
      "RN_CNT          : 0.1400\n",
      "CRTFD_BED_CNT   : 0.2385\n",
      "BED_CNT         : 0.2262\n",
      "ICU_PRESENT     : 0.0515\n",
      "EP_UNEMP        : 0.0610\n",
      "EP_NOHSDP       : 0.0500\n",
      "EP_LIMENG       : 0.0423\n",
      "EP_MINRTY       : 0.0469\n",
      "EP_UNINSUR      : 0.0482\n",
      "EP_POV150       : 0.0456\n",
      "EP_AGE65        : 0.0497\n"
     ]
    },
    {
     "name": "stderr",
     "output_type": "stream",
     "text": [
      "                                                                                \r"
     ]
    }
   ],
   "execution_count": 50
  },
  {
   "metadata": {
    "ExecuteTime": {
     "end_time": "2025-08-14T03:20:08.811673Z",
     "start_time": "2025-08-14T03:20:08.594971Z"
    }
   },
   "cell_type": "code",
   "source": [
    "import matplotlib.pyplot as plt\n",
    "\n",
    "#  Logistic Regression coefficients\n",
    "lr_coefs = list(lr_model.coefficients)\n",
    "lr_pairs = list(zip(usable, lr_coefs))\n",
    "lr_pairs_sorted = sorted(lr_pairs, key=lambda x: abs(x[1]), reverse=True)\n",
    "lr_feats, lr_vals = zip(*lr_pairs_sorted) if lr_pairs_sorted else ([], [])\n",
    "\n",
    "# Random Forest importances\n",
    "rf_imps = list(rf_model.featureImportances.toArray())\n",
    "rf_pairs = list(zip(usable, rf_imps))\n",
    "rf_pairs_sorted = sorted(rf_pairs, key=lambda x: x[1], reverse=True)\n",
    "rf_feats, rf_vals = zip(*rf_pairs_sorted) if rf_pairs_sorted else ([], [])\n",
    "\n",
    "plt.figure(figsize=(12, 5))\n",
    "\n",
    "plt.subplot(1, 2, 1)\n",
    "plt.barh(range(len(lr_feats)), lr_vals)\n",
    "plt.yticks(range(len(lr_feats)), lr_feats)\n",
    "plt.gca().invert_yaxis()\n",
    "plt.title(\"Logistic Regression Coefficients\")\n",
    "plt.xlabel(\"Coefficient (standardized features)\")\n",
    "\n",
    "plt.subplot(1, 2, 2)\n",
    "plt.barh(range(len(rf_feats)), rf_vals)\n",
    "plt.yticks(range(len(rf_feats)), rf_feats)\n",
    "plt.gca().invert_yaxis()\n",
    "plt.title(\"Random Forest Feature Importances\")\n",
    "plt.xlabel(\"Importance\")\n",
    "\n",
    "plt.tight_layout()\n",
    "plt.show()\n"
   ],
   "id": "658557ca70e18dc3",
   "outputs": [
    {
     "data": {
      "text/plain": [
       "<Figure size 1200x500 with 2 Axes>"
      ],
      "image/png": "[encoded data removed]"
     },
     "metadata": {},
     "output_type": "display_data"
    }
   ],
   "execution_count": 51
  }
 ],
 "metadata": {
  "kernelspec": {
   "display_name": "Python 3",
   "language": "python",
   "name": "python3"
  },
  "language_info": {
   "codemirror_mode": {
    "name": "ipython",
    "version": 2
   },
   "file_extension": ".py",
   "mimetype": "text/x-python",
   "name": "python",
   "nbconvert_exporter": "python",
   "pygments_lexer": "ipython2",
   "version": "2.7.6"
  }
 },
 "nbformat": 4,
 "nbformat_minor": 5
}
